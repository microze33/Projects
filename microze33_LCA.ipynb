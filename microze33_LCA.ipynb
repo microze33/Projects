{
 "cells": [
  {
   "cell_type": "markdown",
   "metadata": {},
   "source": [
    "## Problem 1\n",
    "\n",
    "The following lines of code define three dictionaries for a movie database. They indicate the movies' **genre**, **production year**, and **budget**. The movie titles are dictionary keys in each case.\n",
    "\n",
    "Write a program that prompts the user to a search criteria including three elements: 1) a genre, 2) a year, 3) a minimum budget, separated by semicolons (;). Then searches the database and returns a list of all movie titles in the requested genre that are produced **within or after** the entered year and their budget were **equal or greater than** the entered minimum. If there is no movie matching the entered criteria just tell the user so.\n",
    "\n",
    "Example 1:\n",
    "<br> Enter genre, starting year, and min budget: drama;2000;5000000\n",
    "<br> We found these matching movies: ['the pianist','the salesman']\n",
    "\n",
    "Example 2:\n",
    "<br> Enter genre, starting year, and min budget: action;2020;10000000\n",
    "<br> Sorry! We could not find a match!\n"
   ]
  },
  {
   "cell_type": "code",
   "execution_count": null,
   "metadata": {},
   "outputs": [],
   "source": [
    "# Defining dictionaries (do not change this part of code)\n",
    "\n",
    "genres= {'inception':'action','interstellar':'adventure','forrest gump':'drama','ford v ferrari':'action','se7en':'crime', 'the pianist':'drama','wall.e':'animation', 'the salesman':'drama'}\n",
    "prod_years= {'inception':2010,'interstellar':2014,'forrest gump':1994,'ford v ferrari':2019,'se7en':1995,'the pianist':2002,'wall.e':2008,'the salesman':2016}\n",
    "budgets= {'inception':160000000,'interstellar':165000000,'forrest gump':55000000,'ford v ferrari':97600000,'se7en':33000000, 'the pianist':35000000, 'wall.e':180000000,'the salesman':5500000}\n",
    "\n",
    "***************************************************************************************************************************\n",
    "# write your program below this line\n",
    "pickgenre = input(\"Enter Genre: \")\n",
    "\n"
   ]
  },
  {
   "cell_type": "markdown",
   "metadata": {},
   "source": [
    "## Problem 2\n",
    "\n",
    "Download the 'oscars.txt' text file from the following URL and upload it to your directory folder:\n",
    "<br>https://drive.google.com/file/d/1FOuD-_7Wll_WWUc0DIulrIL246LIVEkM/view?usp=sharing\n",
    "\n",
    "The file contains the Best Actor Academy Award winners from 1927 through 2017. Each line represents a distinct year with the year number separated from the winner's name using a **\"/\" delimiter** (e.g., 1994/Tom Hanks).\n",
    "\n",
    "Write a program to open the file and create a dictionary with years as the keys and actors as the values. Then prompt the user to enter a year and show him **the award winner** in that year as well as **the total number of times he has won the oscar**.\n",
    "\n",
    "**HINT**: for the second output,after identifying the winner in that requested year you may loop through the dictionary values only using the **.values()** method and count the number of times the winner is appeared overall.\n",
    "\n",
    "Example:\n",
    "<br>>Enter a year: 2012\n",
    "<br>>The best actor oscar winner in 2012 was Daniel Day-Lewis\n",
    "<br>>Daniel Day-Lewis has won a total of 2 academy awards so far.\n",
    "\n"
   ]
  },
  {
   "cell_type": "code",
   "execution_count": 10,
   "metadata": {},
   "outputs": [
    {
     "name": "stdout",
     "output_type": "stream",
     "text": [
      "Error in opening file\n",
      "Enter a year: 2000\n"
     ]
    }
   ],
   "source": [
    "def oscarwinner(FileName):\n",
    "    year = input('Enter a year: ')\n",
    "try:\n",
    "        with open(FileName) as f:\n",
    "            content = f.readlines()\n",
    "            \n",
    "        for record in content:\n",
    "            if not record.startswith():\n",
    "                if year in record:\n",
    "                    oscar_winner = open(\"oscar1.txt\",\"w+\")\n",
    "                    biden_tweets.write(record)\n",
    "                    print(record)\n",
    "except:\n",
    "        print(\"Error in opening file\")\n",
    "\n",
    "  \n",
    "oscarwinner(\"oscars.txt\")"
   ]
  },
  {
   "cell_type": "markdown",
   "metadata": {},
   "source": [
    "## Problem 3\n",
    "\n",
    "Make a python class called **CellPhone**. The init() method for CellPhone needs to store two attributes: **brand**, and **model**. Make two attribute called call_time (representing total calls duration) and txt_count (representing total text message count)which both start at 0 for each new CellPhone instance. \n",
    "<br>Define a method named call() that gets a call duration and updates the call_time attribute, then prints out the total calls duration so far.\n",
    "<br>Define another method named txt() that each time we call it just updates the txt_count attribute by adding 1 message to that, then prints the total message count so far.\n",
    "<br>In the end, create a new instance of CellPhone and run each method once (use any number for call duration argument)."
   ]
  },
  {
   "cell_type": "code",
   "execution_count": null,
   "metadata": {},
   "outputs": [],
   "source": [
    "class CellPhone:\n",
    "    def __init__(self, man, model, price):\n",
    "        self.manufact = man\n",
    "        self.model = model\n",
    "        self.retail_price = price\n",
    "\n",
    "    def set_manufact(self, man):\n",
    "        self.manufact = man\n",
    "\n",
    "    def set_model(self, model):\n",
    "        self.model = model\n",
    "    \n",
    "    def set_texts(self, texts)\n",
    "        self.texts = texts\n",
    "        \n",
    "    def get_call_time(self, call_time)\n",
    "\n",
    "\n",
    "\n",
    "    def get_manufact(self):\n",
    "        return self.manufact\n",
    "\n",
    "    def get_model(self):\n",
    "        return self.model\n",
    "    def get_call_time(self):\n",
    "        return self.call_time\n",
    "    \n",
    "\n",
    "    def get_texts(self)\n",
    "    \n",
    "man = input('Enter the manufacturer: ')\n",
    "model = input('Enter the model number: ')\n",
    "texts = 0\n",
    "call_time = 0\n",
    "\n",
    "\n",
    "\n",
    "    "
   ]
  }
 ],
 "metadata": {
  "kernelspec": {
   "display_name": "Python 3",
   "language": "python",
   "name": "python3"
  },
  "language_info": {
   "codemirror_mode": {
    "name": "ipython",
    "version": 3
   },
   "file_extension": ".py",
   "mimetype": "text/x-python",
   "name": "python",
   "nbconvert_exporter": "python",
   "pygments_lexer": "ipython3",
   "version": "3.8.3"
  }
 },
 "nbformat": 4,
 "nbformat_minor": 2
}
