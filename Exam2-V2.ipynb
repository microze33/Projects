{
 "cells": [
  {
   "cell_type": "markdown",
   "metadata": {},
   "source": [
    "## Problem 1\n",
    "\n",
    "An accountant would like to have a python program to help him calculating total monthly pay to the employees. For each employee he would like to enter two numbers, separated by commas, representing **total hours worked in a month** and **standard pay rate** of the employee. He would like to enter the numbers repeatedly for all employees working for the company and get the total pay to all employees as the output. Since number of employees could vary from time to time, he would like the program to keep getting numbers until he enters **finish**, then to calculate the pay for all entries.\n",
    "<br>For each employee the monthly pay is:\n",
    "<br>a) **hours * pay rate** if he/she has worked 40 or less hours\n",
    "<br> OR b) **hours * pay rate * 1.2** if he/she has worked more than 40 hours (**applied to all the hours, not just overtime**)\n",
    "<br>Help the accountant by writing his desired program for him.\n",
    "\n",
    "<br>Example:\n",
    "<br>Enter hours and pay rate separated by comma: 37,7\n",
    "<br>Enter hours and pay rate separated by comma: 42,10.5\n",
    "<br>Enter hours and pay rate separated by comma: 45,7.5\n",
    "<br>Enter hours and pay rate separated by comma: 41,8\n",
    "<br>Enter hours and pay rate separated by comma: 32,9\n",
    "<br>Enter hours and pay rate separated by comma: finish\n",
    "<br>Total pay to all employees is: 1874.7999999999997\n"
   ]
  },
  {
   "cell_type": "code",
   "execution_count": null,
   "metadata": {},
   "outputs": [],
   "source": [
    "\n",
    "def pay(lis):\n",
    "\n",
    "    if(lis[0]>40):\n",
    "\n",
    "        return lis[0]*1.2*lis[1]\n",
    "    else:\n",
    "\n",
    "        return lis[0]*lis[1]\n",
    "\n",
    "total_pay=0\n",
    "for i in range(5):\n",
    "    total_pay+=pay(list(map(float,input(\"Enter hours and pay rate separated by comma: \").split(\",\"))))\n",
    "print(\"Total pay to all employees is:\",total_pay)"
   ]
  },
  {
   "cell_type": "markdown",
   "metadata": {},
   "source": [
    "## Problem 2\n",
    "\n",
    "Download the text file titled **Tweets-short.txt** from the following URL and save it in your Jupyter directory folder:\n",
    "https://drive.google.com/open?id=1NJvqi-mgdnFTqbbtpsfRKUjtOZQSLKPK\n",
    "<br>The file includes 148 tweets(one per each line) containing the keyword *election*. A **Retweet** can be identified by **RT** at the beginning of the line. Write a program that opens the text file and reads it line by line, then only if the tweet in a line is an original tweet (i.e., NOT a Retweet) and contains either of the **\"Republican\"** or **\"Democrat\"** keywords (in any combination of upper/lower case letters) prints it on the screen.\n",
    "\n",
    "P.S. I apologize in advance if some tweets contain inappropriate words. I just downloaded them from Twitter and did not get the time to review the contents."
   ]
  },
  {
   "cell_type": "code",
   "execution_count": 15,
   "metadata": {},
   "outputs": [
    {
     "name": "stdout",
     "output_type": "stream",
     "text": [
      "@twitmobound @handsomeadverts @DaveBower1 @SexCounseling @realDonaldTrump Trump has already won in the next election since, as Einstein showed in quantum physics, the future already exists. You, and the 2nd rate power of Satan, are currently inside this 4\n"
     ]
    },
    {
     "data": {
      "text/plain": [
       "[]"
      ]
     },
     "execution_count": 15,
     "metadata": {},
     "output_type": "execute_result"
    }
   ],
   "source": [
    "def twitterfilter(fileName):\n",
    "    try:\n",
    "        with open(fileName) as f:\n",
    "            content = f.readlines()\n",
    "            content = [x.strip() for x in content]\n",
    "            tweets=[]\n",
    "        for record in content:\n",
    "            if not record.startswith(\"RT\"):\n",
    "                if \"Biden\" in record or \"Trump\" in record:\n",
    "                    print(record)\n",
    "                    return tweets\n",
    "    except:\n",
    "        print(\"Error in opening file\")\n",
    "        return []\n",
    "  \n",
    "twitterfilter(\"Tweets-short.txt\")"
   ]
  },
  {
   "cell_type": "markdown",
   "metadata": {},
   "source": [
    "## Problem 3\n",
    "\n",
    "Modify your code in problem 2: This time instead of printing the tweets with the requested characteristics on the screen just write and save them to **two separate text files**, one for original tweets containing Biden (name it **[your last name]-Biden.txt**) and the other for original tweets containing Trump (name it **[your last name]-Trump.txt**). \n",
    "<br>To test your code open your output text files and make sure they are not blank and contain tweets with requested keywords."
   ]
  },
  {
   "cell_type": "code",
   "execution_count": 59,
   "metadata": {},
   "outputs": [
    {
     "name": "stdout",
     "output_type": "stream",
     "text": [
      "@BillyBaldwin Trump will never debate Biden in this election he will not answer questions that the Media & the American People want answers to instead he will just hold Rallies.\n",
      "@realDonaldTrump Sykes stresses that although Karofsky's victory doesn't necessarily mean that Biden will defeat Trump in that state in November, there was no good news for the GOP or Trump in Wisconsin's April 7 election. The conservative journalist writ\n",
      "@twitmobound @handsomeadverts @DaveBower1 @SexCounseling @realDonaldTrump Trump has already won in the next election since, as Einstein showed in quantum physics, the future already exists. You, and the 2nd rate power of Satan, are currently inside this 4\n"
     ]
    },
    {
     "data": {
      "text/plain": [
       "[]"
      ]
     },
     "execution_count": 59,
     "metadata": {},
     "output_type": "execute_result"
    }
   ],
   "source": [
    "def twitterfilter(fileName):\n",
    "    try:\n",
    "        with open(fileName) as f:\n",
    "            content = f.readlines()\n",
    "            content = [x.strip() for x in content]\n",
    "            tweets=[]\n",
    "        for record in content:\n",
    "            if not record.startswith(\"RT\"):\n",
    "                if \"Biden\" in record:\n",
    "                    biden_tweets = open(\"bidenRT.txt\",\"w+\")\n",
    "                    biden_tweets.write(record)\n",
    "                    print(record)\n",
    "                    \n",
    "        with open(fileName) as f:\n",
    "            content2 = f.readlines()\n",
    "            content2 = [x.strip() for x in content2]\n",
    "            tweets=[]\n",
    "        for record2 in content:\n",
    "            if not record2.startswith(\"RT\"):\n",
    "                if \"Trump\" in record2:\n",
    "                    trump_tweets = open(\"trumpRT.txt\",\"w+\")\n",
    "                    trump_tweets.write(record2)\n",
    "                    print(record2)\n",
    "                    return tweets\n",
    "\n",
    "    except:\n",
    "        print(\"Error in opening file\")\n",
    "        return []\n",
    "  \n",
    "twitterfilter(\"Tweets-short.txt\")"
   ]
  },
  {
   "cell_type": "code",
   "execution_count": 51,
   "metadata": {},
   "outputs": [
    {
     "name": "stdout",
     "output_type": "stream",
     "text": [
      "Error in opening file\n"
     ]
    },
    {
     "data": {
      "text/plain": [
       "[]"
      ]
     },
     "execution_count": 51,
     "metadata": {},
     "output_type": "execute_result"
    }
   ],
   "source": [
    "def twitterfilter(fileName):\n",
    "    try:\n",
    "        with open(fileName) as f:\n",
    "            content2 = f.readlines()\n",
    "            content2 = [x.strip() for x in content2]\n",
    "            tweets=[]\n",
    "        for record2 in content:\n",
    "            if not record2.startswith(\"RT\"):\n",
    "                if \"Trump\" in record2:\n",
    "                    print(record2)\n",
    "                    return tweets\n",
    "    except:\n",
    "        print(\"Error in opening file\")\n",
    "        return []\n",
    "  \n",
    "twitterfilter(\"Tweets-short.txt\")"
   ]
  },
  {
   "cell_type": "code",
   "execution_count": null,
   "metadata": {},
   "outputs": [],
   "source": []
  }
 ],
 "metadata": {
  "kernelspec": {
   "display_name": "Python 3",
   "language": "python",
   "name": "python3"
  },
  "language_info": {
   "codemirror_mode": {
    "name": "ipython",
    "version": 3
   },
   "file_extension": ".py",
   "mimetype": "text/x-python",
   "name": "python",
   "nbconvert_exporter": "python",
   "pygments_lexer": "ipython3",
   "version": "3.8.3"
  }
 },
 "nbformat": 4,
 "nbformat_minor": 2
}
