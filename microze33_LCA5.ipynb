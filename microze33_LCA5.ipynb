{
 "cells": [
  {
   "cell_type": "markdown",
   "metadata": {},
   "source": [
    "## Exercise 1\n",
    "\n",
    "Write a program that gets the first line of an email and extracts the host domain (bolded in the following example) of the sender from that:\n",
    "<br>If the domain is uww.edu print the message 'internal email', otherwise print the message 'external email' on the screen.\n",
    "<br><br>Example1: \n",
    "<br>First line of email: From stephen.marquard@<font color=blue>**uct.ac.za**</font> Sat Jan  5 2019 09:14:16\n",
    "<br>host: uct.ac.za\n",
    "<br>external email\n",
    "<br><br>Example2: \n",
    "<br>First line of email: From davazdab@<font color=blue>**uww.edu**</font> Sun Mar 23 2020 19:24:46\n",
    "<br>host: uww.edu\n",
    "<br>internal email"
   ]
  },
  {
   "cell_type": "code",
   "execution_count": 9,
   "metadata": {},
   "outputs": [
    {
     "name": "stdout",
     "output_type": "stream",
     "text": [
      "First line of email:From rosemd08@uww.edu\n",
      "Internal email\n",
      "Host: uww.edu\n"
     ]
    }
   ],
   "source": [
    "mail_str = 'From rosemd08@uww.edu'\n",
    "\n",
    "print(\"First line of email:\" + str(mail_str)) \n",
    "  \n",
    "\n",
    "res = mail_str[mail_str.index('@') + 1 : ] \n",
    "if res == (\"uww.edu\"):\n",
    "    print(\"Internal email\")\n",
    "    print(\"Host: \"+ str(res))\n",
    "else:\n",
    "    print(\"The extracted domain name : \" + str(res)) \n",
    "    print(\"External email\")\n",
    "    print(\"Host: \"+ str(res))"
   ]
  },
  {
   "cell_type": "code",
   "execution_count": null,
   "metadata": {},
   "outputs": [],
   "source": []
  },
  {
   "cell_type": "markdown",
   "metadata": {},
   "source": [
    "## Assignment 1\n",
    "\n",
    "Write a program that prompts the user to enter his/her first name, last name, and year of birth in a single string (in the format: **fn;ln;yyyy**), then calculates the age tell it to him/her after greeting him/her using the first name.\n",
    "<br>Make sure to capitalize the user's first name, regardless of how he/she typed it in. \n",
    "<br>Hint: review Exercise 1!\n",
    "<br><br>Example:\n",
    "<br>Enter your first name, last name, and birth year (in format fn;ln;yyyy): alex;smith;1994\n",
    "<br>Hi Alex, you are 26 years old!"
   ]
  },
  {
   "cell_type": "code",
   "execution_count": null,
   "metadata": {},
   "outputs": [],
   "source": [
    "first,last,birth_year=input(\"Enter your first name, last name, and birth year (in format fn;ln;yyyy): \").split(\";\")\n",
    "age=2020-int(birth_year)\n",
    "print(\"Hi {}, you are {} years old!\".format(first.capitalize(),age))\n"
   ]
  },
  {
   "cell_type": "markdown",
   "metadata": {},
   "source": [
    "## Assignment 2\n",
    "\n",
    "Write a python program (using loops) that prompts the user to enter his/her favorite English saying, then counts the number of vowels in that (note that the user may type the saying using any combination of upper or lower case letters).\n",
    "\n",
    "<br>Example:\n",
    "<br>Enter your favorite English saying: Actions speak LOUDER than words.\n",
    "<br>Number of wovels: 10"
   ]
  },
  {
   "cell_type": "code",
   "execution_count": null,
   "metadata": {},
   "outputs": [],
   "source": [
    "sayings_str = input(\"Enter your favorite English saying: \")\n",
    "count = 0\n",
    "for ch in sayings_str:\n",
    "    if ch in \"aeiouAEIOU\":\n",
    "        count += 1\n",
    "print(\"Number of vowels is: \", count)"
   ]
  }
 ],
 "metadata": {
  "kernelspec": {
   "display_name": "Python 3",
   "language": "python",
   "name": "python3"
  },
  "language_info": {
   "codemirror_mode": {
    "name": "ipython",
    "version": 3
   },
   "file_extension": ".py",
   "mimetype": "text/x-python",
   "name": "python",
   "nbconvert_exporter": "python",
   "pygments_lexer": "ipython3",
   "version": "3.8.3"
  }
 },
 "nbformat": 4,
 "nbformat_minor": 2
}
