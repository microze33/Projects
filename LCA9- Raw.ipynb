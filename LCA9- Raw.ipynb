{
 "cells": [
  {
   "cell_type": "markdown",
   "metadata": {},
   "source": [
    "## Exercise 1.1\n",
    "\n",
    "Make a Python class called **Car**. The __init()__ method for Car should store three attributes: make, model, and year. Also, set odometer at 0 for every new car instance constructed.\n",
    "<br>For the Car class, write a method called **trip** that gets distance of each trip driven by a car object and updates the car odometer."
   ]
  },
  {
   "cell_type": "code",
   "execution_count": 5,
   "metadata": {},
   "outputs": [],
   "source": [
    "class Car:\n",
    "    def __init__(self,year,make,speed):\n",
    "        self.__year_model=year\n",
    "        self.__make=make\n",
    "        self.__speed=0\n",
    "        \n",
    "class TripMeter:\n",
    "   def __init__(self):\n",
    "      self.miles = 0"
   ]
  },
  {
   "cell_type": "markdown",
   "metadata": {},
   "source": [
    "## Assignment 1\n",
    "\n",
    "Make a class called **Restaurant**. The __init__() method for Restaurant should store two attributes: a **restaurant_name** and a **cuisine_type**. Make an attribute called meals_served in the class which starts at 0 for each new restaurant instance. Make a method called order() that gets the number of meals(order size) in a given order and updates the meals_served attribute, then prints the current total number of meals served so far.\n",
    "\n",
    "Then create two new instances(objects) with the following attributes: (Chipotle,Mexican) for restaurant1 and (Taj Mahal,Indian) for restaurant2; and call the order() method once for each instance with order sizes of 4 and 3 meals, respectively.\n",
    "\n",
    "Expected Output:\n",
    "<br>A new restaurant is created called Chipotle which serves Mexican food\n",
    "<br>A new restaurant is created called Taj Mahal which serves Indian food\n",
    "<br>Total meals served so far in Chipotle is: 4\n",
    "<br>Total meals served so far in Taj Mahal is: 3"
   ]
  },
  {
   "cell_type": "code",
   "execution_count": 6,
   "metadata": {},
   "outputs": [
    {
     "name": "stdout",
     "output_type": "stream",
     "text": [
      "A new restaurant is created called Chipotle which serves Mexican food \n",
      "A new restaurant is created called Taj Mahal which serves Indian food \n",
      "Total meals served so far in Chipotle is: 3 \n",
      "Total meals served so far in Taj Mahal is: 4 \n"
     ]
    }
   ],
   "source": [
    "class Restaurant:\n",
    "    def __init__(self, restaurant_name, cuisine_type): \n",
    "        self.restaurant_name = restaurant_name\n",
    "        self.cuisine_type = cuisine_type\n",
    "        print(\"A new restaurant is created called {0} which serves {1} food \".format(self.restaurant_name, self.cuisine_type))\n",
    "      \n",
    "    meals_served = 0\n",
    "    \n",
    "    def order(self, meals_served):\n",
    "        self.meals_served = meals_served \n",
    "        print(\"Total meals served so far in {0} is: {1} \".format(self.restaurant_name, self.meals_served))\n",
    "        \n",
    "restaurant1 = Restaurant('Chipotle', 'Mexican')\n",
    "restaurant2 = Restaurant('Taj Mahal', 'Indian')\n",
    "restaurant1.order(4)\n",
    "restaurant2.order(3)"
   ]
  },
  {
   "cell_type": "code",
   "execution_count": null,
   "metadata": {},
   "outputs": [],
   "source": []
  },
  {
   "cell_type": "markdown",
   "metadata": {},
   "source": [
    "## Assignment 2\n",
    "\n",
    "Make a new class called **Buffet** which posses all the methods and attributes of the **Restaurant** class. In addition, define a new attribute called people_served that sets at 0 for each newly constructed object. Also, make a method called ppl() that gets the number of people served on each table and updates the people_served attribute accordingly. Then prints the total number of people served so far.\n",
    "\n",
    "Construct a new buffet object with *Milano* as name and *Italian* as cuisine type, then call the *order()* method with an order size of 10 meals as well as the *ppl()* method with a table size of 6 people."
   ]
  },
  {
   "cell_type": "code",
   "execution_count": 19,
   "metadata": {},
   "outputs": [
    {
     "name": "stdout",
     "output_type": "stream",
     "text": [
      "A new restaurant is created called Chipotle which serves Mexican food \n",
      "A new restaurant is created called Taj Mahal which serves Indian food \n",
      "Total meals served so far in Chipotle is: 4 \n",
      "Total meals served so far in Taj Mahal is: 3 \n",
      "A new restaurant is created called Milano which serves Italian food \n",
      "Total meals served so far in Milano is: 10 \n",
      "Total Number of peoples served so far in  Milano: 6\n"
     ]
    }
   ],
   "source": [
    "class Restaurant:\n",
    "    def __init__(self, restaurant_name, cuisine_type): \n",
    "        self.restaurant_name = restaurant_name\n",
    "        self.cuisine_type = cuisine_type\n",
    "        print(\"A new restaurant is created called {0} which serves {1} food \".format(self.restaurant_name, self.cuisine_type))\n",
    "      \n",
    "    meals_served = 0\n",
    "    \n",
    "    def order(self, meals_served):\n",
    "        self.meals_served = meals_served \n",
    "        print(\"Total meals served so far in {0} is: {1} \".format(self.restaurant_name, self.meals_served))\n",
    "        \n",
    "restaurant1 = Restaurant('Chipotle', 'Mexican')\n",
    "restaurant2 = Restaurant('Taj Mahal', 'Indian')\n",
    "restaurant1.order(4)\n",
    "restaurant2.order(3)\n",
    "\n",
    "class Buffet(Restaurant):\n",
    "    def __init__(self, restaurant_name, cuisine_type):\n",
    "        super().__init__(restaurant_name, cuisine_type)\n",
    "        self.people_served = 0\n",
    "    def ppl(self, people_served):\n",
    "        self.people_served = people_served\n",
    "        print(\"Total Number of peoples served so far in  {0}: {1}\".format(self.restaurant_name, self.people_served))\n",
    "    \n",
    "\n",
    "buffet1=Buffet('Milano', 'Italian')\n",
    "buffet1.order(10)\n",
    "buffet1.ppl(6)"
   ]
  },
  {
   "cell_type": "code",
   "execution_count": 15,
   "metadata": {},
   "outputs": [
    {
     "ename": "TypeError",
     "evalue": "descriptor '__init__' requires a 'super' object but received a 'str'",
     "output_type": "error",
     "traceback": [
      "\u001b[1;31m---------------------------------------------------------------------------\u001b[0m",
      "\u001b[1;31mTypeError\u001b[0m                                 Traceback (most recent call last)",
      "\u001b[1;32m<ipython-input-15-c8170cee19bf>\u001b[0m in \u001b[0;36m<module>\u001b[1;34m\u001b[0m\n\u001b[0;32m     27\u001b[0m \u001b[1;33m\u001b[0m\u001b[0m\n\u001b[0;32m     28\u001b[0m \u001b[1;33m\u001b[0m\u001b[0m\n\u001b[1;32m---> 29\u001b[1;33m \u001b[0mbuffet1\u001b[0m \u001b[1;33m=\u001b[0m \u001b[0mBuffet\u001b[0m\u001b[1;33m(\u001b[0m\u001b[1;34m'Milano'\u001b[0m\u001b[1;33m,\u001b[0m \u001b[1;34m'Italian'\u001b[0m\u001b[1;33m)\u001b[0m\u001b[1;33m\u001b[0m\u001b[1;33m\u001b[0m\u001b[0m\n\u001b[0m\u001b[0;32m     30\u001b[0m \u001b[0mbuffet1\u001b[0m\u001b[1;33m.\u001b[0m\u001b[0morder\u001b[0m\u001b[1;33m(\u001b[0m\u001b[1;36m10\u001b[0m\u001b[1;33m)\u001b[0m\u001b[1;33m\u001b[0m\u001b[1;33m\u001b[0m\u001b[0m\n\u001b[0;32m     31\u001b[0m \u001b[0mbuffet1\u001b[0m\u001b[1;33m.\u001b[0m\u001b[0mppl\u001b[0m\u001b[1;33m(\u001b[0m\u001b[1;36m6\u001b[0m\u001b[1;33m)\u001b[0m\u001b[1;33m\u001b[0m\u001b[1;33m\u001b[0m\u001b[0m\n",
      "\u001b[1;32m<ipython-input-15-c8170cee19bf>\u001b[0m in \u001b[0;36m__init__\u001b[1;34m(self, Restaurant_name, cuisine_type)\u001b[0m\n\u001b[0;32m     19\u001b[0m         \u001b[1;31m# Initiate the Restaurant class with given name and cuisine type using super function\u001b[0m\u001b[1;33m\u001b[0m\u001b[1;33m\u001b[0m\u001b[1;33m\u001b[0m\u001b[0m\n\u001b[0;32m     20\u001b[0m         \u001b[1;31m# which inherits all methods as well.\u001b[0m\u001b[1;33m\u001b[0m\u001b[1;33m\u001b[0m\u001b[1;33m\u001b[0m\u001b[0m\n\u001b[1;32m---> 21\u001b[1;33m         \u001b[0msuper\u001b[0m\u001b[1;33m.\u001b[0m\u001b[0m__init__\u001b[0m\u001b[1;33m(\u001b[0m\u001b[0mRestaurant_name\u001b[0m\u001b[1;33m,\u001b[0m \u001b[0mcuisine_type\u001b[0m\u001b[1;33m)\u001b[0m\u001b[1;33m\u001b[0m\u001b[1;33m\u001b[0m\u001b[0m\n\u001b[0m\u001b[0;32m     22\u001b[0m         \u001b[0mself\u001b[0m\u001b[1;33m.\u001b[0m\u001b[0mpeople_served\u001b[0m \u001b[1;33m=\u001b[0m \u001b[1;36m0\u001b[0m\u001b[1;33m\u001b[0m\u001b[1;33m\u001b[0m\u001b[0m\n\u001b[0;32m     23\u001b[0m \u001b[1;33m\u001b[0m\u001b[0m\n",
      "\u001b[1;31mTypeError\u001b[0m: descriptor '__init__' requires a 'super' object but received a 'str'"
     ]
    }
   ],
   "source": []
  },
  {
   "cell_type": "code",
   "execution_count": null,
   "metadata": {},
   "outputs": [],
   "source": []
  }
 ],
 "metadata": {
  "kernelspec": {
   "display_name": "Python 3",
   "language": "python",
   "name": "python3"
  },
  "language_info": {
   "codemirror_mode": {
    "name": "ipython",
    "version": 3
   },
   "file_extension": ".py",
   "mimetype": "text/x-python",
   "name": "python",
   "nbconvert_exporter": "python",
   "pygments_lexer": "ipython3",
   "version": "3.8.3"
  }
 },
 "nbformat": 4,
 "nbformat_minor": 4
}
